{
 "cells": [
  {
   "cell_type": "code",
   "execution_count": 5,
   "id": "5778f540",
   "metadata": {},
   "outputs": [],
   "source": [
    "import pandas as pd\n",
    "import numpy as np\n",
    "import matplotlib.pyplot as plt\n",
    "import requests\n",
    "from io import StringIO\n",
    "\n",
    "from collections import Counter\n",
    "from sklearn.model_selection import RandomizedSearchCV\n",
    "from scipy.stats import uniform, randint    \n",
    "from sklearn.model_selection import train_test_split\n",
    "from xgboost import XGBRegressor\n",
    "from sklearn.metrics import mean_squared_error\n",
    "\n",
    "# url to get the emotion lexicon\n",
    "url = 'https://raw.githubusercontent.com/aditeyabaral/lok-sabha-election-twitter-analysis/refs/heads/master/NRC-Emotion-Lexicon-Wordlevel-v0.92.txt'\n",
    "\n",
    "response = requests.get(url)\n",
    "\n",
    "if response.status_code == 200:\n",
    "    lexicon_data = StringIO(response.text)\n",
    "    nrc_lexicon = pd.read_csv(lexicon_data, sep='\\t', header=None)\n",
    "else:\n",
    "    print(f\"Error: Failed to fetch lexicon from URL (Status code {response.status_code})\")\n",
    "\n",
    "# Load the NRC lexicon\n",
    "nrc_lexicon.columns = ['word', 'emotion', 'association']\n",
    "nrc_lexicon = nrc_lexicon[nrc_lexicon['association'] == 1]"
   ]
  },
  {
   "cell_type": "code",
   "execution_count": 6,
   "id": "95b61c7b",
   "metadata": {},
   "outputs": [],
   "source": [
    "# Define mapping with regular and opposite scores\n",
    "# Openness to experience refers to the degree of intellectual curiosity, creativity, and openness to new ideas and experiences.\n",
    "# Conscientiousness involves traits such as organization, self-discipline, reliability, and goal-directed behavior.\n",
    "# Extraversion measures the extent to which someone is outgoing, sociable, energetic, and seeks stimulation from the external world.\n",
    "# Agreeableness reflects traits like trust, altruism, kindness, and cooperation in social interactions.\n",
    "# Neuroticism (sometimes also referred to as Emotional Stability) indicates the tendency to experience negative emotions such as anxiety, depression, and vulnerability to stress.\n",
    "emotion_to_ocean = {\n",
    "    'anger': {'N': 1, 'O': 0},\n",
    "    'anticipation': {'O': 1, 'C': 1},\n",
    "    'disgust': {'N': 1, 'O': 0},\n",
    "    'fear': {'N': 1, 'O': 0},\n",
    "    'joy': {'E': 1, 'A': 1},\n",
    "    'negative': {'N': 1, 'O': 0},\n",
    "    'positive': {'E': 1, 'A': 1},\n",
    "    'sadness': {'N': 1, 'O': 0},\n",
    "    'surprise': {'O': 1, 'C': 0},\n",
    "    'trust': {'A': 1, 'C': 1}\n",
    "}"
   ]
  },
  {
   "cell_type": "code",
   "execution_count": 8,
   "id": "8d86a053",
   "metadata": {},
   "outputs": [],
   "source": [
    "def extract_emotion_features(text):\n",
    "    tokens = text.lower().split()\n",
    "    emotion_counts = Counter()\n",
    "    for token in tokens:\n",
    "        emotions = nrc_lexicon[nrc_lexicon['word'] == token]['emotion'].values\n",
    "        emotion_counts.update(emotions)\n",
    "    return emotion_counts\n",
    "\n",
    "def generate_ocean_scores(emotion_counts, emotion_to_ocean):\n",
    "    ocean_scores = {trait: 0 for trait in 'OCEAN'}\n",
    "    for emotion, count in emotion_counts.items():\n",
    "        for trait, weight in emotion_to_ocean.get(emotion, {}).items():\n",
    "            if trait in ocean_scores:\n",
    "                ocean_scores[trait] += count * weight\n",
    "            else:\n",
    "                opposite_trait = trait.lower() if trait.isupper() else trait.upper()\n",
    "                ocean_scores[opposite_trait] -= count * weight\n",
    "    return ocean_scores\n"
   ]
  },
  {
   "cell_type": "code",
   "execution_count": 40,
   "id": "9f68221c",
   "metadata": {},
   "outputs": [],
   "source": [
    "ceo_transcript_data = pd.read_excel('../dataset/combined_hvp_numeric.xlsx')[['ID','Message']].drop_duplicates()"
   ]
  },
  {
   "cell_type": "code",
   "execution_count": 43,
   "id": "3dfb4bb3",
   "metadata": {},
   "outputs": [
    {
     "data": {
      "text/html": [
       "<div>\n",
       "<style scoped>\n",
       "    .dataframe tbody tr th:only-of-type {\n",
       "        vertical-align: middle;\n",
       "    }\n",
       "\n",
       "    .dataframe tbody tr th {\n",
       "        vertical-align: top;\n",
       "    }\n",
       "\n",
       "    .dataframe thead th {\n",
       "        text-align: right;\n",
       "    }\n",
       "</style>\n",
       "<table border=\"1\" class=\"dataframe\">\n",
       "  <thead>\n",
       "    <tr style=\"text-align: right;\">\n",
       "      <th></th>\n",
       "      <th>ID</th>\n",
       "      <th>Message</th>\n",
       "    </tr>\n",
       "  </thead>\n",
       "  <tbody>\n",
       "    <tr>\n",
       "      <th>0</th>\n",
       "      <td>12373</td>\n",
       "      <td>I can morning. i'm Okay, how are you. that's a...</td>\n",
       "    </tr>\n",
       "    <tr>\n",
       "      <th>1</th>\n",
       "      <td>5197</td>\n",
       "      <td>i'm doing good give me a. Second. yeah I can h...</td>\n",
       "    </tr>\n",
       "    <tr>\n",
       "      <th>2</th>\n",
       "      <td>7906</td>\n",
       "      <td>morning. Barely good one are barely. that's al...</td>\n",
       "    </tr>\n",
       "    <tr>\n",
       "      <th>3</th>\n",
       "      <td>2064</td>\n",
       "      <td>How are you. How. A lot a lot Oh, she got the ...</td>\n",
       "    </tr>\n",
       "    <tr>\n",
       "      <th>4</th>\n",
       "      <td>17043</td>\n",
       "      <td>yeah I went to that page and I don't know what...</td>\n",
       "    </tr>\n",
       "    <tr>\n",
       "      <th>...</th>\n",
       "      <td>...</td>\n",
       "      <td>...</td>\n",
       "    </tr>\n",
       "    <tr>\n",
       "      <th>653</th>\n",
       "      <td>12800</td>\n",
       "      <td>Hello. Good how are you. Not much has happened...</td>\n",
       "    </tr>\n",
       "    <tr>\n",
       "      <th>654</th>\n",
       "      <td>12622</td>\n",
       "      <td>There we go. i'm all right, I think I need to ...</td>\n",
       "    </tr>\n",
       "    <tr>\n",
       "      <th>655</th>\n",
       "      <td>13557</td>\n",
       "      <td>Can you hear me. I know just confused I. yeah ...</td>\n",
       "    </tr>\n",
       "    <tr>\n",
       "      <th>656</th>\n",
       "      <td>12722</td>\n",
       "      <td>Hello it's morning. You thought for sure I was...</td>\n",
       "    </tr>\n",
       "    <tr>\n",
       "      <th>657</th>\n",
       "      <td>5393</td>\n",
       "      <td>around like the first week of September I star...</td>\n",
       "    </tr>\n",
       "  </tbody>\n",
       "</table>\n",
       "<p>626 rows × 2 columns</p>\n",
       "</div>"
      ],
      "text/plain": [
       "        ID                                            Message\n",
       "0    12373  I can morning. i'm Okay, how are you. that's a...\n",
       "1     5197  i'm doing good give me a. Second. yeah I can h...\n",
       "2     7906  morning. Barely good one are barely. that's al...\n",
       "3     2064  How are you. How. A lot a lot Oh, she got the ...\n",
       "4    17043  yeah I went to that page and I don't know what...\n",
       "..     ...                                                ...\n",
       "653  12800  Hello. Good how are you. Not much has happened...\n",
       "654  12622  There we go. i'm all right, I think I need to ...\n",
       "655  13557  Can you hear me. I know just confused I. yeah ...\n",
       "656  12722  Hello it's morning. You thought for sure I was...\n",
       "657   5393  around like the first week of September I star...\n",
       "\n",
       "[626 rows x 2 columns]"
      ]
     },
     "execution_count": 43,
     "metadata": {},
     "output_type": "execute_result"
    }
   ],
   "source": [
    "ceo_transcript_data"
   ]
  },
  {
   "cell_type": "code",
   "execution_count": 50,
   "id": "bbd64067",
   "metadata": {},
   "outputs": [],
   "source": [
    "prepared_dataset = []\n",
    "for index,row in ceo_transcript_data.iterrows():\n",
    "    emotion = extract_emotion_features(row['Message'])\n",
    "    ocean_scores = generate_ocean_scores(emotion,emotion_to_ocean)\n",
    "    ocean_scores['ID'] = row['ID']\n",
    "    ocean_scores['Message'] = row['Message']\n",
    "    prepared_dataset.append(ocean_scores)"
   ]
  },
  {
   "cell_type": "code",
   "execution_count": 51,
   "id": "a3d2d8f9",
   "metadata": {},
   "outputs": [],
   "source": [
    "prepared_dataset = pd.DataFrame(prepared_dataset)"
   ]
  },
  {
   "cell_type": "code",
   "execution_count": 53,
   "id": "7f1d8946",
   "metadata": {},
   "outputs": [],
   "source": [
    "prepared_dataset.to_excel('../dataset/ocean_prepared_dataset.xlsx',index=False)"
   ]
  },
  {
   "cell_type": "code",
   "execution_count": null,
   "id": "1840a1f8",
   "metadata": {},
   "outputs": [],
   "source": [
    "# emotion_features = [extract_emotion_features(text) for text in texts]\n",
    "# ocean_scores = [generate_ocean_scores(emotion, emotion_to_ocean) for emotion in emotion_features]\n",
    "\n",
    "# emotion_df = pd.DataFrame(emotion_features).fillna(0)\n",
    "# ocean_df = pd.DataFrame(ocean_scores).fillna(0)"
   ]
  }
 ],
 "metadata": {
  "kernelspec": {
   "display_name": "Python 3",
   "language": "python",
   "name": "python3"
  },
  "language_info": {
   "codemirror_mode": {
    "name": "ipython",
    "version": 3
   },
   "file_extension": ".py",
   "mimetype": "text/x-python",
   "name": "python",
   "nbconvert_exporter": "python",
   "pygments_lexer": "ipython3",
   "version": "3.9.13"
  }
 },
 "nbformat": 4,
 "nbformat_minor": 5
}
