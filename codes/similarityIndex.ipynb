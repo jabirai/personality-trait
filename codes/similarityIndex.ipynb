{
 "cells": [
  {
   "cell_type": "code",
   "execution_count": 7,
   "metadata": {},
   "outputs": [
    {
     "name": "stderr",
     "output_type": "stream",
     "text": [
      "/Users/imranabbas/Library/Python/3.9/lib/python/site-packages/urllib3/__init__.py:34: NotOpenSSLWarning: urllib3 v2.0 only supports OpenSSL 1.1.1+, currently the 'ssl' module is compiled with 'LibreSSL 2.8.3'. See: https://github.com/urllib3/urllib3/issues/3020\n",
      "  warnings.warn(\n"
     ]
    }
   ],
   "source": [
    "import requests\n",
    "import json\n",
    "import math\n",
    "import numpy as np\n",
    "import pandas as pd\n",
    "import warnings\n",
    "warnings.filterwarnings(\"ignore\")\n",
    "\n",
    "def cosine_similarity(vec1, vec2):\n",
    "    dot_product = np.dot(vec1, vec2)\n",
    "    norm_vec1 = np.linalg.norm(vec1)\n",
    "    norm_vec2 = np.linalg.norm(vec2)\n",
    "    return dot_product / (norm_vec1 * norm_vec2)\n",
    "\n",
    "\n",
    "def euclidean_distance(vector1, vector2):\n",
    "    if len(vector1) != len(vector2):\n",
    "        raise ValueError(\"Vectors must be of the same length\")\n",
    "    \n",
    "    distance = math.sqrt(sum((a - b) ** 2 for a, b in zip(vector1, vector2)))\n",
    "    return distance"
   ]
  },
  {
   "cell_type": "code",
   "execution_count": 8,
   "metadata": {},
   "outputs": [],
   "source": [
    "def get_ocean_vector(text):\n",
    "    ocean = json.loads(requests.post(url='http://127.0.0.1:3000/predict',json={\n",
    "        \"id\" :None,\n",
    "        \"text\":text,\n",
    "        \"model\":\"ocean\"\n",
    "    }).text)\n",
    "    predictions = ocean['predictions']\n",
    "    vector = [predictions['O'], predictions['C'], predictions['E'], predictions['A'], predictions['N']]\n",
    "    return vector"
   ]
  },
  {
   "cell_type": "code",
   "execution_count": 9,
   "metadata": {},
   "outputs": [],
   "source": [
    "import glob,json\n",
    "files = glob.glob('../dataset/*.json')"
   ]
  },
  {
   "cell_type": "code",
   "execution_count": 10,
   "metadata": {},
   "outputs": [],
   "source": [
    "def find_similarity(pair,type='cos'):\n",
    "    with open(pair[0],'r') as file:\n",
    "        text1 = json.loads(file.read())['text']\n",
    "        file.close()\n",
    "    with open(pair[1],'r') as file:\n",
    "        text2 = json.loads(file.read())['text']\n",
    "        file.close()\n",
    "    vec1 = get_ocean_vector(text1)\n",
    "    vec2 = get_ocean_vector(text2)\n",
    "\n",
    "    if type == 'cos': similarity = cosine_similarity(vec1,vec2)\n",
    "    else: similarity = euclidean_distance(vec1,vec2)\n",
    "\n",
    "    return [pair[0],pair[1],round(float(similarity),5)]\n",
    "    "
   ]
  },
  {
   "cell_type": "code",
   "execution_count": 35,
   "metadata": {},
   "outputs": [],
   "source": [
    "from itertools import combinations\n",
    "pairs = list(combinations(files, 2))\n",
    "\n",
    "dataset = []\n",
    "\n",
    "for pair in pairs:\n",
    "    dataset.append(find_similarity(pair,'ec'))\n",
    "\n",
    "similarity_df = pd.DataFrame(dataset,columns=['Transcript_One','Transcript_Two','Similarity Index'])\n"
   ]
  },
  {
   "cell_type": "code",
   "execution_count": 36,
   "metadata": {},
   "outputs": [],
   "source": [
    "similarity_df = similarity_df.sort_values(by='Similarity Index',ascending=False)"
   ]
  },
  {
   "cell_type": "code",
   "execution_count": 37,
   "metadata": {},
   "outputs": [],
   "source": [
    "similarity_df['Transcript_One'] = similarity_df['Transcript_One'].apply(lambda x: x.replace('../dataset/', ''))\n",
    "similarity_df['Transcript_One'] = similarity_df['Transcript_One'].apply(lambda x: x.replace('.json', ''))\n",
    "similarity_df['Transcript_Two'] = similarity_df['Transcript_Two'].apply(lambda x: x.replace('../dataset/', ''))\n",
    "similarity_df['Transcript_Two'] = similarity_df['Transcript_Two'].apply(lambda x: x.replace('.json', ''))"
   ]
  },
  {
   "cell_type": "code",
   "execution_count": 38,
   "metadata": {},
   "outputs": [
    {
     "data": {
      "text/html": [
       "<div>\n",
       "<style scoped>\n",
       "    .dataframe tbody tr th:only-of-type {\n",
       "        vertical-align: middle;\n",
       "    }\n",
       "\n",
       "    .dataframe tbody tr th {\n",
       "        vertical-align: top;\n",
       "    }\n",
       "\n",
       "    .dataframe thead th {\n",
       "        text-align: right;\n",
       "    }\n",
       "</style>\n",
       "<table border=\"1\" class=\"dataframe\">\n",
       "  <thead>\n",
       "    <tr style=\"text-align: right;\">\n",
       "      <th></th>\n",
       "      <th>Transcript_One</th>\n",
       "      <th>Transcript_Two</th>\n",
       "      <th>Similarity Index</th>\n",
       "    </tr>\n",
       "  </thead>\n",
       "  <tbody>\n",
       "    <tr>\n",
       "      <th>5</th>\n",
       "      <td>seeking_alpha_transcripts-4</td>\n",
       "      <td>video_transcripts-2</td>\n",
       "      <td>5.12543</td>\n",
       "    </tr>\n",
       "    <tr>\n",
       "      <th>3</th>\n",
       "      <td>seeking_alpha_transcripts-4</td>\n",
       "      <td>seeking_alpha_transcripts-3</td>\n",
       "      <td>4.72758</td>\n",
       "    </tr>\n",
       "    <tr>\n",
       "      <th>14</th>\n",
       "      <td>video_transcripts-1</td>\n",
       "      <td>video_transcripts-2</td>\n",
       "      <td>4.60977</td>\n",
       "    </tr>\n",
       "    <tr>\n",
       "      <th>12</th>\n",
       "      <td>video_transcripts-1</td>\n",
       "      <td>seeking_alpha_transcripts-3</td>\n",
       "      <td>4.21070</td>\n",
       "    </tr>\n",
       "    <tr>\n",
       "      <th>10</th>\n",
       "      <td>seeking_alpha_transcripts-5</td>\n",
       "      <td>video_transcripts-2</td>\n",
       "      <td>2.86007</td>\n",
       "    </tr>\n",
       "    <tr>\n",
       "      <th>4</th>\n",
       "      <td>seeking_alpha_transcripts-4</td>\n",
       "      <td>seeking_alpha_transcripts-1</td>\n",
       "      <td>2.82312</td>\n",
       "    </tr>\n",
       "    <tr>\n",
       "      <th>2</th>\n",
       "      <td>seeking_alpha_transcripts-4</td>\n",
       "      <td>seeking_alpha_transcripts-2</td>\n",
       "      <td>2.61916</td>\n",
       "    </tr>\n",
       "    <tr>\n",
       "      <th>17</th>\n",
       "      <td>seeking_alpha_transcripts-2</td>\n",
       "      <td>video_transcripts-2</td>\n",
       "      <td>2.51595</td>\n",
       "    </tr>\n",
       "    <tr>\n",
       "      <th>0</th>\n",
       "      <td>seeking_alpha_transcripts-4</td>\n",
       "      <td>seeking_alpha_transcripts-5</td>\n",
       "      <td>2.51595</td>\n",
       "    </tr>\n",
       "    <tr>\n",
       "      <th>8</th>\n",
       "      <td>seeking_alpha_transcripts-5</td>\n",
       "      <td>seeking_alpha_transcripts-3</td>\n",
       "      <td>2.46982</td>\n",
       "    </tr>\n",
       "    <tr>\n",
       "      <th>20</th>\n",
       "      <td>seeking_alpha_transcripts-1</td>\n",
       "      <td>video_transcripts-2</td>\n",
       "      <td>2.43721</td>\n",
       "    </tr>\n",
       "    <tr>\n",
       "      <th>13</th>\n",
       "      <td>video_transcripts-1</td>\n",
       "      <td>seeking_alpha_transcripts-1</td>\n",
       "      <td>2.22036</td>\n",
       "    </tr>\n",
       "    <tr>\n",
       "      <th>15</th>\n",
       "      <td>seeking_alpha_transcripts-2</td>\n",
       "      <td>seeking_alpha_transcripts-3</td>\n",
       "      <td>2.11896</td>\n",
       "    </tr>\n",
       "    <tr>\n",
       "      <th>11</th>\n",
       "      <td>video_transcripts-1</td>\n",
       "      <td>seeking_alpha_transcripts-2</td>\n",
       "      <td>2.11187</td>\n",
       "    </tr>\n",
       "    <tr>\n",
       "      <th>18</th>\n",
       "      <td>seeking_alpha_transcripts-3</td>\n",
       "      <td>seeking_alpha_transcripts-1</td>\n",
       "      <td>2.04450</td>\n",
       "    </tr>\n",
       "    <tr>\n",
       "      <th>6</th>\n",
       "      <td>seeking_alpha_transcripts-5</td>\n",
       "      <td>video_transcripts-1</td>\n",
       "      <td>1.86815</td>\n",
       "    </tr>\n",
       "    <tr>\n",
       "      <th>7</th>\n",
       "      <td>seeking_alpha_transcripts-5</td>\n",
       "      <td>seeking_alpha_transcripts-2</td>\n",
       "      <td>0.76811</td>\n",
       "    </tr>\n",
       "    <tr>\n",
       "      <th>1</th>\n",
       "      <td>seeking_alpha_transcripts-4</td>\n",
       "      <td>video_transcripts-1</td>\n",
       "      <td>0.73485</td>\n",
       "    </tr>\n",
       "    <tr>\n",
       "      <th>16</th>\n",
       "      <td>seeking_alpha_transcripts-2</td>\n",
       "      <td>seeking_alpha_transcripts-1</td>\n",
       "      <td>0.51962</td>\n",
       "    </tr>\n",
       "    <tr>\n",
       "      <th>9</th>\n",
       "      <td>seeking_alpha_transcripts-5</td>\n",
       "      <td>seeking_alpha_transcripts-1</td>\n",
       "      <td>0.44721</td>\n",
       "    </tr>\n",
       "    <tr>\n",
       "      <th>19</th>\n",
       "      <td>seeking_alpha_transcripts-3</td>\n",
       "      <td>video_transcripts-2</td>\n",
       "      <td>0.40000</td>\n",
       "    </tr>\n",
       "  </tbody>\n",
       "</table>\n",
       "</div>"
      ],
      "text/plain": [
       "                 Transcript_One               Transcript_Two  Similarity Index\n",
       "5   seeking_alpha_transcripts-4          video_transcripts-2           5.12543\n",
       "3   seeking_alpha_transcripts-4  seeking_alpha_transcripts-3           4.72758\n",
       "14          video_transcripts-1          video_transcripts-2           4.60977\n",
       "12          video_transcripts-1  seeking_alpha_transcripts-3           4.21070\n",
       "10  seeking_alpha_transcripts-5          video_transcripts-2           2.86007\n",
       "4   seeking_alpha_transcripts-4  seeking_alpha_transcripts-1           2.82312\n",
       "2   seeking_alpha_transcripts-4  seeking_alpha_transcripts-2           2.61916\n",
       "17  seeking_alpha_transcripts-2          video_transcripts-2           2.51595\n",
       "0   seeking_alpha_transcripts-4  seeking_alpha_transcripts-5           2.51595\n",
       "8   seeking_alpha_transcripts-5  seeking_alpha_transcripts-3           2.46982\n",
       "20  seeking_alpha_transcripts-1          video_transcripts-2           2.43721\n",
       "13          video_transcripts-1  seeking_alpha_transcripts-1           2.22036\n",
       "15  seeking_alpha_transcripts-2  seeking_alpha_transcripts-3           2.11896\n",
       "11          video_transcripts-1  seeking_alpha_transcripts-2           2.11187\n",
       "18  seeking_alpha_transcripts-3  seeking_alpha_transcripts-1           2.04450\n",
       "6   seeking_alpha_transcripts-5          video_transcripts-1           1.86815\n",
       "7   seeking_alpha_transcripts-5  seeking_alpha_transcripts-2           0.76811\n",
       "1   seeking_alpha_transcripts-4          video_transcripts-1           0.73485\n",
       "16  seeking_alpha_transcripts-2  seeking_alpha_transcripts-1           0.51962\n",
       "9   seeking_alpha_transcripts-5  seeking_alpha_transcripts-1           0.44721\n",
       "19  seeking_alpha_transcripts-3          video_transcripts-2           0.40000"
      ]
     },
     "execution_count": 38,
     "metadata": {},
     "output_type": "execute_result"
    }
   ],
   "source": [
    "similarity_df"
   ]
  },
  {
   "cell_type": "code",
   "execution_count": 39,
   "metadata": {},
   "outputs": [
    {
     "data": {
      "application/vnd.plotly.v1+json": {
       "config": {
        "plotlyServerURL": "https://plot.ly"
       },
       "data": [
        {
         "hovertemplate": "<b>%{hovertext}</b><br><br>index=%{x}<br>Similarity Index=%{marker.color}<extra></extra>",
         "hovertext": [
          "seeking_alpha_transcripts-4 vs video_transcripts-2<br>Similarity: 5.12543",
          "seeking_alpha_transcripts-4 vs seeking_alpha_transcripts-3<br>Similarity: 4.72758",
          "video_transcripts-1 vs video_transcripts-2<br>Similarity: 4.60977",
          "video_transcripts-1 vs seeking_alpha_transcripts-3<br>Similarity: 4.2107",
          "seeking_alpha_transcripts-5 vs video_transcripts-2<br>Similarity: 2.86007",
          "seeking_alpha_transcripts-4 vs seeking_alpha_transcripts-1<br>Similarity: 2.82312",
          "seeking_alpha_transcripts-4 vs seeking_alpha_transcripts-2<br>Similarity: 2.61916",
          "seeking_alpha_transcripts-2 vs video_transcripts-2<br>Similarity: 2.51595",
          "seeking_alpha_transcripts-4 vs seeking_alpha_transcripts-5<br>Similarity: 2.51595",
          "seeking_alpha_transcripts-5 vs seeking_alpha_transcripts-3<br>Similarity: 2.46982",
          "seeking_alpha_transcripts-1 vs video_transcripts-2<br>Similarity: 2.43721",
          "video_transcripts-1 vs seeking_alpha_transcripts-1<br>Similarity: 2.22036",
          "seeking_alpha_transcripts-2 vs seeking_alpha_transcripts-3<br>Similarity: 2.11896",
          "video_transcripts-1 vs seeking_alpha_transcripts-2<br>Similarity: 2.11187",
          "seeking_alpha_transcripts-3 vs seeking_alpha_transcripts-1<br>Similarity: 2.0445",
          "seeking_alpha_transcripts-5 vs video_transcripts-1<br>Similarity: 1.86815",
          "seeking_alpha_transcripts-5 vs seeking_alpha_transcripts-2<br>Similarity: 0.76811",
          "seeking_alpha_transcripts-4 vs video_transcripts-1<br>Similarity: 0.73485",
          "seeking_alpha_transcripts-2 vs seeking_alpha_transcripts-1<br>Similarity: 0.51962",
          "seeking_alpha_transcripts-5 vs seeking_alpha_transcripts-1<br>Similarity: 0.44721",
          "seeking_alpha_transcripts-3 vs video_transcripts-2<br>Similarity: 0.4"
         ],
         "legendgroup": "",
         "marker": {
          "color": [
           5.12543,
           4.72758,
           4.60977,
           4.2107,
           2.86007,
           2.82312,
           2.61916,
           2.51595,
           2.51595,
           2.46982,
           2.43721,
           2.22036,
           2.11896,
           2.11187,
           2.0445,
           1.86815,
           0.76811,
           0.73485,
           0.51962,
           0.44721,
           0.4
          ],
          "coloraxis": "coloraxis",
          "size": 12,
          "symbol": "circle"
         },
         "mode": "markers",
         "name": "",
         "orientation": "v",
         "showlegend": false,
         "type": "scatter",
         "x": [
          5,
          3,
          14,
          12,
          10,
          4,
          2,
          17,
          0,
          8,
          20,
          13,
          15,
          11,
          18,
          6,
          7,
          1,
          16,
          9,
          19
         ],
         "xaxis": "x",
         "y": [
          5.12543,
          4.72758,
          4.60977,
          4.2107,
          2.86007,
          2.82312,
          2.61916,
          2.51595,
          2.51595,
          2.46982,
          2.43721,
          2.22036,
          2.11896,
          2.11187,
          2.0445,
          1.86815,
          0.76811,
          0.73485,
          0.51962,
          0.44721,
          0.4
         ],
         "yaxis": "y"
        }
       ],
       "layout": {
        "coloraxis": {
         "colorbar": {
          "title": {
           "text": "Similarity Index"
          }
         },
         "colorscale": [
          [
           0,
           "#440154"
          ],
          [
           0.1111111111111111,
           "#482878"
          ],
          [
           0.2222222222222222,
           "#3e4989"
          ],
          [
           0.3333333333333333,
           "#31688e"
          ],
          [
           0.4444444444444444,
           "#26828e"
          ],
          [
           0.5555555555555556,
           "#1f9e89"
          ],
          [
           0.6666666666666666,
           "#35b779"
          ],
          [
           0.7777777777777778,
           "#6ece58"
          ],
          [
           0.8888888888888888,
           "#b5de2b"
          ],
          [
           1,
           "#fde725"
          ]
         ]
        },
        "hovermode": "closest",
        "legend": {
         "tracegroupgap": 0
        },
        "template": {
         "data": {
          "bar": [
           {
            "error_x": {
             "color": "#2a3f5f"
            },
            "error_y": {
             "color": "#2a3f5f"
            },
            "marker": {
             "line": {
              "color": "#E5ECF6",
              "width": 0.5
             },
             "pattern": {
              "fillmode": "overlay",
              "size": 10,
              "solidity": 0.2
             }
            },
            "type": "bar"
           }
          ],
          "barpolar": [
           {
            "marker": {
             "line": {
              "color": "#E5ECF6",
              "width": 0.5
             },
             "pattern": {
              "fillmode": "overlay",
              "size": 10,
              "solidity": 0.2
             }
            },
            "type": "barpolar"
           }
          ],
          "carpet": [
           {
            "aaxis": {
             "endlinecolor": "#2a3f5f",
             "gridcolor": "white",
             "linecolor": "white",
             "minorgridcolor": "white",
             "startlinecolor": "#2a3f5f"
            },
            "baxis": {
             "endlinecolor": "#2a3f5f",
             "gridcolor": "white",
             "linecolor": "white",
             "minorgridcolor": "white",
             "startlinecolor": "#2a3f5f"
            },
            "type": "carpet"
           }
          ],
          "choropleth": [
           {
            "colorbar": {
             "outlinewidth": 0,
             "ticks": ""
            },
            "type": "choropleth"
           }
          ],
          "contour": [
           {
            "colorbar": {
             "outlinewidth": 0,
             "ticks": ""
            },
            "colorscale": [
             [
              0,
              "#0d0887"
             ],
             [
              0.1111111111111111,
              "#46039f"
             ],
             [
              0.2222222222222222,
              "#7201a8"
             ],
             [
              0.3333333333333333,
              "#9c179e"
             ],
             [
              0.4444444444444444,
              "#bd3786"
             ],
             [
              0.5555555555555556,
              "#d8576b"
             ],
             [
              0.6666666666666666,
              "#ed7953"
             ],
             [
              0.7777777777777778,
              "#fb9f3a"
             ],
             [
              0.8888888888888888,
              "#fdca26"
             ],
             [
              1,
              "#f0f921"
             ]
            ],
            "type": "contour"
           }
          ],
          "contourcarpet": [
           {
            "colorbar": {
             "outlinewidth": 0,
             "ticks": ""
            },
            "type": "contourcarpet"
           }
          ],
          "heatmap": [
           {
            "colorbar": {
             "outlinewidth": 0,
             "ticks": ""
            },
            "colorscale": [
             [
              0,
              "#0d0887"
             ],
             [
              0.1111111111111111,
              "#46039f"
             ],
             [
              0.2222222222222222,
              "#7201a8"
             ],
             [
              0.3333333333333333,
              "#9c179e"
             ],
             [
              0.4444444444444444,
              "#bd3786"
             ],
             [
              0.5555555555555556,
              "#d8576b"
             ],
             [
              0.6666666666666666,
              "#ed7953"
             ],
             [
              0.7777777777777778,
              "#fb9f3a"
             ],
             [
              0.8888888888888888,
              "#fdca26"
             ],
             [
              1,
              "#f0f921"
             ]
            ],
            "type": "heatmap"
           }
          ],
          "heatmapgl": [
           {
            "colorbar": {
             "outlinewidth": 0,
             "ticks": ""
            },
            "colorscale": [
             [
              0,
              "#0d0887"
             ],
             [
              0.1111111111111111,
              "#46039f"
             ],
             [
              0.2222222222222222,
              "#7201a8"
             ],
             [
              0.3333333333333333,
              "#9c179e"
             ],
             [
              0.4444444444444444,
              "#bd3786"
             ],
             [
              0.5555555555555556,
              "#d8576b"
             ],
             [
              0.6666666666666666,
              "#ed7953"
             ],
             [
              0.7777777777777778,
              "#fb9f3a"
             ],
             [
              0.8888888888888888,
              "#fdca26"
             ],
             [
              1,
              "#f0f921"
             ]
            ],
            "type": "heatmapgl"
           }
          ],
          "histogram": [
           {
            "marker": {
             "pattern": {
              "fillmode": "overlay",
              "size": 10,
              "solidity": 0.2
             }
            },
            "type": "histogram"
           }
          ],
          "histogram2d": [
           {
            "colorbar": {
             "outlinewidth": 0,
             "ticks": ""
            },
            "colorscale": [
             [
              0,
              "#0d0887"
             ],
             [
              0.1111111111111111,
              "#46039f"
             ],
             [
              0.2222222222222222,
              "#7201a8"
             ],
             [
              0.3333333333333333,
              "#9c179e"
             ],
             [
              0.4444444444444444,
              "#bd3786"
             ],
             [
              0.5555555555555556,
              "#d8576b"
             ],
             [
              0.6666666666666666,
              "#ed7953"
             ],
             [
              0.7777777777777778,
              "#fb9f3a"
             ],
             [
              0.8888888888888888,
              "#fdca26"
             ],
             [
              1,
              "#f0f921"
             ]
            ],
            "type": "histogram2d"
           }
          ],
          "histogram2dcontour": [
           {
            "colorbar": {
             "outlinewidth": 0,
             "ticks": ""
            },
            "colorscale": [
             [
              0,
              "#0d0887"
             ],
             [
              0.1111111111111111,
              "#46039f"
             ],
             [
              0.2222222222222222,
              "#7201a8"
             ],
             [
              0.3333333333333333,
              "#9c179e"
             ],
             [
              0.4444444444444444,
              "#bd3786"
             ],
             [
              0.5555555555555556,
              "#d8576b"
             ],
             [
              0.6666666666666666,
              "#ed7953"
             ],
             [
              0.7777777777777778,
              "#fb9f3a"
             ],
             [
              0.8888888888888888,
              "#fdca26"
             ],
             [
              1,
              "#f0f921"
             ]
            ],
            "type": "histogram2dcontour"
           }
          ],
          "mesh3d": [
           {
            "colorbar": {
             "outlinewidth": 0,
             "ticks": ""
            },
            "type": "mesh3d"
           }
          ],
          "parcoords": [
           {
            "line": {
             "colorbar": {
              "outlinewidth": 0,
              "ticks": ""
             }
            },
            "type": "parcoords"
           }
          ],
          "pie": [
           {
            "automargin": true,
            "type": "pie"
           }
          ],
          "scatter": [
           {
            "fillpattern": {
             "fillmode": "overlay",
             "size": 10,
             "solidity": 0.2
            },
            "type": "scatter"
           }
          ],
          "scatter3d": [
           {
            "line": {
             "colorbar": {
              "outlinewidth": 0,
              "ticks": ""
             }
            },
            "marker": {
             "colorbar": {
              "outlinewidth": 0,
              "ticks": ""
             }
            },
            "type": "scatter3d"
           }
          ],
          "scattercarpet": [
           {
            "marker": {
             "colorbar": {
              "outlinewidth": 0,
              "ticks": ""
             }
            },
            "type": "scattercarpet"
           }
          ],
          "scattergeo": [
           {
            "marker": {
             "colorbar": {
              "outlinewidth": 0,
              "ticks": ""
             }
            },
            "type": "scattergeo"
           }
          ],
          "scattergl": [
           {
            "marker": {
             "colorbar": {
              "outlinewidth": 0,
              "ticks": ""
             }
            },
            "type": "scattergl"
           }
          ],
          "scattermapbox": [
           {
            "marker": {
             "colorbar": {
              "outlinewidth": 0,
              "ticks": ""
             }
            },
            "type": "scattermapbox"
           }
          ],
          "scatterpolar": [
           {
            "marker": {
             "colorbar": {
              "outlinewidth": 0,
              "ticks": ""
             }
            },
            "type": "scatterpolar"
           }
          ],
          "scatterpolargl": [
           {
            "marker": {
             "colorbar": {
              "outlinewidth": 0,
              "ticks": ""
             }
            },
            "type": "scatterpolargl"
           }
          ],
          "scatterternary": [
           {
            "marker": {
             "colorbar": {
              "outlinewidth": 0,
              "ticks": ""
             }
            },
            "type": "scatterternary"
           }
          ],
          "surface": [
           {
            "colorbar": {
             "outlinewidth": 0,
             "ticks": ""
            },
            "colorscale": [
             [
              0,
              "#0d0887"
             ],
             [
              0.1111111111111111,
              "#46039f"
             ],
             [
              0.2222222222222222,
              "#7201a8"
             ],
             [
              0.3333333333333333,
              "#9c179e"
             ],
             [
              0.4444444444444444,
              "#bd3786"
             ],
             [
              0.5555555555555556,
              "#d8576b"
             ],
             [
              0.6666666666666666,
              "#ed7953"
             ],
             [
              0.7777777777777778,
              "#fb9f3a"
             ],
             [
              0.8888888888888888,
              "#fdca26"
             ],
             [
              1,
              "#f0f921"
             ]
            ],
            "type": "surface"
           }
          ],
          "table": [
           {
            "cells": {
             "fill": {
              "color": "#EBF0F8"
             },
             "line": {
              "color": "white"
             }
            },
            "header": {
             "fill": {
              "color": "#C8D4E3"
             },
             "line": {
              "color": "white"
             }
            },
            "type": "table"
           }
          ]
         },
         "layout": {
          "annotationdefaults": {
           "arrowcolor": "#2a3f5f",
           "arrowhead": 0,
           "arrowwidth": 1
          },
          "autotypenumbers": "strict",
          "coloraxis": {
           "colorbar": {
            "outlinewidth": 0,
            "ticks": ""
           }
          },
          "colorscale": {
           "diverging": [
            [
             0,
             "#8e0152"
            ],
            [
             0.1,
             "#c51b7d"
            ],
            [
             0.2,
             "#de77ae"
            ],
            [
             0.3,
             "#f1b6da"
            ],
            [
             0.4,
             "#fde0ef"
            ],
            [
             0.5,
             "#f7f7f7"
            ],
            [
             0.6,
             "#e6f5d0"
            ],
            [
             0.7,
             "#b8e186"
            ],
            [
             0.8,
             "#7fbc41"
            ],
            [
             0.9,
             "#4d9221"
            ],
            [
             1,
             "#276419"
            ]
           ],
           "sequential": [
            [
             0,
             "#0d0887"
            ],
            [
             0.1111111111111111,
             "#46039f"
            ],
            [
             0.2222222222222222,
             "#7201a8"
            ],
            [
             0.3333333333333333,
             "#9c179e"
            ],
            [
             0.4444444444444444,
             "#bd3786"
            ],
            [
             0.5555555555555556,
             "#d8576b"
            ],
            [
             0.6666666666666666,
             "#ed7953"
            ],
            [
             0.7777777777777778,
             "#fb9f3a"
            ],
            [
             0.8888888888888888,
             "#fdca26"
            ],
            [
             1,
             "#f0f921"
            ]
           ],
           "sequentialminus": [
            [
             0,
             "#0d0887"
            ],
            [
             0.1111111111111111,
             "#46039f"
            ],
            [
             0.2222222222222222,
             "#7201a8"
            ],
            [
             0.3333333333333333,
             "#9c179e"
            ],
            [
             0.4444444444444444,
             "#bd3786"
            ],
            [
             0.5555555555555556,
             "#d8576b"
            ],
            [
             0.6666666666666666,
             "#ed7953"
            ],
            [
             0.7777777777777778,
             "#fb9f3a"
            ],
            [
             0.8888888888888888,
             "#fdca26"
            ],
            [
             1,
             "#f0f921"
            ]
           ]
          },
          "colorway": [
           "#636efa",
           "#EF553B",
           "#00cc96",
           "#ab63fa",
           "#FFA15A",
           "#19d3f3",
           "#FF6692",
           "#B6E880",
           "#FF97FF",
           "#FECB52"
          ],
          "font": {
           "color": "#2a3f5f"
          },
          "geo": {
           "bgcolor": "white",
           "lakecolor": "white",
           "landcolor": "#E5ECF6",
           "showlakes": true,
           "showland": true,
           "subunitcolor": "white"
          },
          "hoverlabel": {
           "align": "left"
          },
          "hovermode": "closest",
          "mapbox": {
           "style": "light"
          },
          "paper_bgcolor": "white",
          "plot_bgcolor": "#E5ECF6",
          "polar": {
           "angularaxis": {
            "gridcolor": "white",
            "linecolor": "white",
            "ticks": ""
           },
           "bgcolor": "#E5ECF6",
           "radialaxis": {
            "gridcolor": "white",
            "linecolor": "white",
            "ticks": ""
           }
          },
          "scene": {
           "xaxis": {
            "backgroundcolor": "#E5ECF6",
            "gridcolor": "white",
            "gridwidth": 2,
            "linecolor": "white",
            "showbackground": true,
            "ticks": "",
            "zerolinecolor": "white"
           },
           "yaxis": {
            "backgroundcolor": "#E5ECF6",
            "gridcolor": "white",
            "gridwidth": 2,
            "linecolor": "white",
            "showbackground": true,
            "ticks": "",
            "zerolinecolor": "white"
           },
           "zaxis": {
            "backgroundcolor": "#E5ECF6",
            "gridcolor": "white",
            "gridwidth": 2,
            "linecolor": "white",
            "showbackground": true,
            "ticks": "",
            "zerolinecolor": "white"
           }
          },
          "shapedefaults": {
           "line": {
            "color": "#2a3f5f"
           }
          },
          "ternary": {
           "aaxis": {
            "gridcolor": "white",
            "linecolor": "white",
            "ticks": ""
           },
           "baxis": {
            "gridcolor": "white",
            "linecolor": "white",
            "ticks": ""
           },
           "bgcolor": "#E5ECF6",
           "caxis": {
            "gridcolor": "white",
            "linecolor": "white",
            "ticks": ""
           }
          },
          "title": {
           "x": 0.05
          },
          "xaxis": {
           "automargin": true,
           "gridcolor": "white",
           "linecolor": "white",
           "ticks": "",
           "title": {
            "standoff": 15
           },
           "zerolinecolor": "white",
           "zerolinewidth": 2
          },
          "yaxis": {
           "automargin": true,
           "gridcolor": "white",
           "linecolor": "white",
           "ticks": "",
           "title": {
            "standoff": 15
           },
           "zerolinecolor": "white",
           "zerolinewidth": 2
          }
         }
        },
        "title": {
         "text": "Similarity Plot"
        },
        "xaxis": {
         "anchor": "y",
         "domain": [
          0,
          1
         ],
         "title": {
          "text": "Pair Index"
         }
        },
        "yaxis": {
         "anchor": "x",
         "domain": [
          0,
          1
         ],
         "title": {
          "text": "Similarity Index"
         }
        }
       }
      }
     },
     "metadata": {},
     "output_type": "display_data"
    }
   ],
   "source": [
    "import pandas as pd\n",
    "import plotly.express as px\n",
    "\n",
    "\n",
    "df = similarity_df\n",
    "\n",
    "df['hover_text'] = df['Transcript_One'] + \" vs \" + df['Transcript_Two'] + \"<br>Similarity: \" + df['Similarity Index'].astype(str)\n",
    "\n",
    "# Plot using Plotly\n",
    "fig = px.scatter(\n",
    "    df,\n",
    "    x=df.index,\n",
    "    y='Similarity Index',\n",
    "    color='Similarity Index',\n",
    "    hover_name='hover_text',\n",
    "    title='Similarity Plot',\n",
    "    labels={'x': 'Pair Index', 'Similarity Index': 'Similarity Index'},\n",
    "    color_continuous_scale='Viridis'\n",
    ")\n",
    "\n",
    "# Update layout\n",
    "fig.update_traces(marker=dict(size=12))\n",
    "fig.update_layout(\n",
    "    xaxis_title=\"Pair Index\",\n",
    "    yaxis_title=\"Similarity Index\",\n",
    "    coloraxis_colorbar=dict(title=\"Similarity Index\"),\n",
    "    hovermode=\"closest\"\n",
    ")\n",
    "\n",
    "# Show plot\n",
    "fig.show()"
   ]
  },
  {
   "cell_type": "code",
   "execution_count": 3,
   "metadata": {},
   "outputs": [
    {
     "name": "stdout",
     "output_type": "stream",
     "text": [
      "Defaulting to user installation because normal site-packages is not writeable\n",
      "Collecting jupyterlab\n",
      "  Downloading jupyterlab-4.3.3-py3-none-any.whl (11.7 MB)\n",
      "\u001b[K     |████████████████████████████████| 11.7 MB 2.0 MB/s eta 0:00:01\n",
      "\u001b[?25hCollecting ipywidgets>=7.5\n",
      "  Downloading ipywidgets-8.1.5-py3-none-any.whl (139 kB)\n",
      "\u001b[K     |████████████████████████████████| 139 kB 1.2 MB/s eta 0:00:01\n",
      "\u001b[?25hRequirement already satisfied: jinja2>=3.0.3 in /Users/imranabbas/Library/Python/3.9/lib/python/site-packages (from jupyterlab) (3.1.4)\n",
      "Requirement already satisfied: jupyter-core in /Users/imranabbas/Library/Python/3.9/lib/python/site-packages (from jupyterlab) (5.3.1)\n",
      "Requirement already satisfied: importlib-metadata>=4.8.3 in /Users/imranabbas/Library/Python/3.9/lib/python/site-packages (from jupyterlab) (6.8.0)\n",
      "Collecting jupyter-server<3,>=2.4.0\n",
      "  Downloading jupyter_server-2.14.2-py3-none-any.whl (383 kB)\n",
      "\u001b[K     |████████████████████████████████| 383 kB 1.8 MB/s eta 0:00:01\n",
      "\u001b[?25hCollecting notebook-shim>=0.2\n",
      "  Downloading notebook_shim-0.2.4-py3-none-any.whl (13 kB)\n",
      "Collecting tomli>=1.2.2\n",
      "  Downloading tomli-2.2.1-py3-none-any.whl (14 kB)\n",
      "Collecting async-lru>=1.0.0\n",
      "  Downloading async_lru-2.0.4-py3-none-any.whl (6.1 kB)\n",
      "Requirement already satisfied: traitlets in /Users/imranabbas/Library/Python/3.9/lib/python/site-packages (from jupyterlab) (5.9.0)\n",
      "Collecting httpx>=0.25.0\n",
      "  Downloading httpx-0.28.1-py3-none-any.whl (73 kB)\n",
      "\u001b[K     |████████████████████████████████| 73 kB 1.0 MB/s eta 0:00:01\n",
      "\u001b[?25hCollecting jupyter-lsp>=2.0.0\n",
      "  Downloading jupyter_lsp-2.2.5-py3-none-any.whl (69 kB)\n",
      "\u001b[K     |████████████████████████████████| 69 kB 1.8 MB/s eta 0:00:01\n",
      "\u001b[?25hRequirement already satisfied: ipykernel>=6.5.0 in /Users/imranabbas/Library/Python/3.9/lib/python/site-packages (from jupyterlab) (6.25.0)\n",
      "Requirement already satisfied: tornado>=6.2.0 in /Users/imranabbas/Library/Python/3.9/lib/python/site-packages (from jupyterlab) (6.3.2)\n",
      "Collecting jupyterlab-server<3,>=2.27.1\n",
      "  Downloading jupyterlab_server-2.27.3-py3-none-any.whl (59 kB)\n",
      "\u001b[K     |████████████████████████████████| 59 kB 1.7 MB/s eta 0:00:01\n",
      "\u001b[?25hRequirement already satisfied: packaging in /Users/imranabbas/Library/Python/3.9/lib/python/site-packages (from jupyterlab) (23.1)\n",
      "Requirement already satisfied: setuptools>=40.8.0 in /Library/Developer/CommandLineTools/Library/Frameworks/Python3.framework/Versions/3.9/lib/python3.9/site-packages (from jupyterlab) (58.0.4)\n",
      "Collecting jupyterlab-widgets~=3.0.12\n",
      "  Downloading jupyterlab_widgets-3.0.13-py3-none-any.whl (214 kB)\n",
      "\u001b[K     |████████████████████████████████| 214 kB 2.6 MB/s eta 0:00:01\n",
      "\u001b[?25hCollecting widgetsnbextension~=4.0.12\n",
      "  Downloading widgetsnbextension-4.0.13-py3-none-any.whl (2.3 MB)\n",
      "\u001b[K     |████████████████████████████████| 2.3 MB 1.9 MB/s eta 0:00:01     |██████████████████████▊         | 1.7 MB 1.9 MB/s eta 0:00:01\n",
      "\u001b[?25hRequirement already satisfied: comm>=0.1.3 in /Users/imranabbas/Library/Python/3.9/lib/python/site-packages (from ipywidgets>=7.5) (0.1.4)\n",
      "Requirement already satisfied: ipython>=6.1.0 in /Users/imranabbas/Library/Python/3.9/lib/python/site-packages (from ipywidgets>=7.5) (8.14.0)\n",
      "Requirement already satisfied: typing-extensions>=4.0.0 in /Users/imranabbas/Library/Python/3.9/lib/python/site-packages (from async-lru>=1.0.0->jupyterlab) (4.12.2)\n",
      "Requirement already satisfied: certifi in /Users/imranabbas/Library/Python/3.9/lib/python/site-packages (from httpx>=0.25.0->jupyterlab) (2023.7.22)\n",
      "Collecting httpcore==1.*\n",
      "  Downloading httpcore-1.0.7-py3-none-any.whl (78 kB)\n",
      "\u001b[K     |████████████████████████████████| 78 kB 2.5 MB/s eta 0:00:01\n",
      "\u001b[?25hRequirement already satisfied: idna in /Users/imranabbas/Library/Python/3.9/lib/python/site-packages (from httpx>=0.25.0->jupyterlab) (3.4)\n",
      "Collecting anyio\n",
      "  Downloading anyio-4.7.0-py3-none-any.whl (93 kB)\n",
      "\u001b[K     |████████████████████████████████| 93 kB 2.7 MB/s eta 0:00:01\n",
      "\u001b[?25hCollecting h11<0.15,>=0.13\n",
      "  Using cached h11-0.14.0-py3-none-any.whl (58 kB)\n",
      "Requirement already satisfied: zipp>=0.5 in /Users/imranabbas/Library/Python/3.9/lib/python/site-packages (from importlib-metadata>=4.8.3->jupyterlab) (3.16.2)\n",
      "Requirement already satisfied: appnope in /Users/imranabbas/Library/Python/3.9/lib/python/site-packages (from ipykernel>=6.5.0->jupyterlab) (0.1.3)\n",
      "Requirement already satisfied: jupyter-client>=6.1.12 in /Users/imranabbas/Library/Python/3.9/lib/python/site-packages (from ipykernel>=6.5.0->jupyterlab) (8.3.0)\n",
      "Requirement already satisfied: psutil in /Users/imranabbas/Library/Python/3.9/lib/python/site-packages (from ipykernel>=6.5.0->jupyterlab) (5.9.5)\n",
      "Requirement already satisfied: matplotlib-inline>=0.1 in /Users/imranabbas/Library/Python/3.9/lib/python/site-packages (from ipykernel>=6.5.0->jupyterlab) (0.1.6)\n",
      "Requirement already satisfied: pyzmq>=20 in /Users/imranabbas/Library/Python/3.9/lib/python/site-packages (from ipykernel>=6.5.0->jupyterlab) (25.1.0)\n",
      "Requirement already satisfied: nest-asyncio in /Users/imranabbas/Library/Python/3.9/lib/python/site-packages (from ipykernel>=6.5.0->jupyterlab) (1.5.7)\n",
      "Requirement already satisfied: debugpy>=1.6.5 in /Users/imranabbas/Library/Python/3.9/lib/python/site-packages (from ipykernel>=6.5.0->jupyterlab) (1.6.7)\n",
      "Requirement already satisfied: decorator in /Users/imranabbas/Library/Python/3.9/lib/python/site-packages (from ipython>=6.1.0->ipywidgets>=7.5) (5.1.1)\n",
      "Requirement already satisfied: pygments>=2.4.0 in /Users/imranabbas/Library/Python/3.9/lib/python/site-packages (from ipython>=6.1.0->ipywidgets>=7.5) (2.15.1)\n",
      "Requirement already satisfied: stack-data in /Users/imranabbas/Library/Python/3.9/lib/python/site-packages (from ipython>=6.1.0->ipywidgets>=7.5) (0.6.2)\n",
      "Requirement already satisfied: jedi>=0.16 in /Users/imranabbas/Library/Python/3.9/lib/python/site-packages (from ipython>=6.1.0->ipywidgets>=7.5) (0.19.0)\n",
      "Requirement already satisfied: prompt-toolkit!=3.0.37,<3.1.0,>=3.0.30 in /Users/imranabbas/Library/Python/3.9/lib/python/site-packages (from ipython>=6.1.0->ipywidgets>=7.5) (3.0.39)\n",
      "Requirement already satisfied: pexpect>4.3 in /Users/imranabbas/Library/Python/3.9/lib/python/site-packages (from ipython>=6.1.0->ipywidgets>=7.5) (4.8.0)\n",
      "Requirement already satisfied: backcall in /Users/imranabbas/Library/Python/3.9/lib/python/site-packages (from ipython>=6.1.0->ipywidgets>=7.5) (0.2.0)\n",
      "Requirement already satisfied: pickleshare in /Users/imranabbas/Library/Python/3.9/lib/python/site-packages (from ipython>=6.1.0->ipywidgets>=7.5) (0.7.5)\n",
      "Requirement already satisfied: parso<0.9.0,>=0.8.3 in /Users/imranabbas/Library/Python/3.9/lib/python/site-packages (from jedi>=0.16->ipython>=6.1.0->ipywidgets>=7.5) (0.8.3)\n",
      "Requirement already satisfied: MarkupSafe>=2.0 in /Users/imranabbas/Library/Python/3.9/lib/python/site-packages (from jinja2>=3.0.3->jupyterlab) (3.0.2)\n",
      "Requirement already satisfied: python-dateutil>=2.8.2 in /Users/imranabbas/Library/Python/3.9/lib/python/site-packages (from jupyter-client>=6.1.12->ipykernel>=6.5.0->jupyterlab) (2.8.2)\n",
      "Requirement already satisfied: platformdirs>=2.5 in /Users/imranabbas/Library/Python/3.9/lib/python/site-packages (from jupyter-core->jupyterlab) (3.10.0)\n",
      "Collecting argon2-cffi>=21.1\n",
      "  Downloading argon2_cffi-23.1.0-py3-none-any.whl (15 kB)\n",
      "Collecting jupyter-server-terminals>=0.4.4\n",
      "  Downloading jupyter_server_terminals-0.5.3-py3-none-any.whl (13 kB)\n",
      "Collecting send2trash>=1.8.2\n",
      "  Downloading Send2Trash-1.8.3-py3-none-any.whl (18 kB)\n",
      "Collecting prometheus-client>=0.9\n",
      "  Downloading prometheus_client-0.21.1-py3-none-any.whl (54 kB)\n",
      "\u001b[K     |████████████████████████████████| 54 kB 3.2 MB/s eta 0:00:01\n",
      "\u001b[?25hCollecting websocket-client>=1.7\n",
      "  Downloading websocket_client-1.8.0-py3-none-any.whl (58 kB)\n",
      "\u001b[K     |████████████████████████████████| 58 kB 3.5 MB/s eta 0:00:011\n",
      "\u001b[?25hCollecting overrides>=5.0\n",
      "  Downloading overrides-7.7.0-py3-none-any.whl (17 kB)\n",
      "Collecting jupyter-events>=0.9.0\n",
      "  Downloading jupyter_events-0.10.0-py3-none-any.whl (18 kB)\n",
      "Collecting nbconvert>=6.4.4\n",
      "  Downloading nbconvert-7.16.4-py3-none-any.whl (257 kB)\n",
      "\u001b[K     |████████████████████████████████| 257 kB 1.5 MB/s eta 0:00:01\n",
      "\u001b[?25hCollecting nbformat>=5.3.0\n",
      "  Downloading nbformat-5.10.4-py3-none-any.whl (78 kB)\n",
      "\u001b[K     |████████████████████████████████| 78 kB 4.6 MB/s eta 0:00:01\n",
      "\u001b[?25hCollecting terminado>=0.8.3\n",
      "  Downloading terminado-0.18.1-py3-none-any.whl (14 kB)\n",
      "Collecting sniffio>=1.1\n",
      "  Downloading sniffio-1.3.1-py3-none-any.whl (10 kB)\n",
      "Collecting exceptiongroup>=1.0.2\n",
      "  Downloading exceptiongroup-1.2.2-py3-none-any.whl (16 kB)\n",
      "Collecting argon2-cffi-bindings\n",
      "  Downloading argon2_cffi_bindings-21.2.0-cp38-abi3-macosx_10_9_universal2.whl (53 kB)\n",
      "\u001b[K     |████████████████████████████████| 53 kB 2.2 MB/s eta 0:00:01\n",
      "\u001b[?25hCollecting jsonschema[format-nongpl]>=4.18.0\n",
      "  Downloading jsonschema-4.23.0-py3-none-any.whl (88 kB)\n",
      "\u001b[K     |████████████████████████████████| 88 kB 3.3 MB/s eta 0:00:01\n",
      "\u001b[?25hCollecting referencing\n",
      "  Downloading referencing-0.35.1-py3-none-any.whl (26 kB)\n",
      "Requirement already satisfied: pyyaml>=5.3 in /Users/imranabbas/Library/Python/3.9/lib/python/site-packages (from jupyter-events>=0.9.0->jupyter-server<3,>=2.4.0->jupyterlab) (6.0.1)\n",
      "Collecting rfc3986-validator>=0.1.1\n",
      "  Downloading rfc3986_validator-0.1.1-py2.py3-none-any.whl (4.2 kB)\n",
      "Collecting rfc3339-validator\n",
      "  Downloading rfc3339_validator-0.1.4-py2.py3-none-any.whl (3.5 kB)\n",
      "Collecting python-json-logger>=2.0.4\n",
      "  Downloading python_json_logger-3.2.0-py3-none-any.whl (14 kB)\n",
      "Collecting jsonschema-specifications>=2023.03.6\n",
      "  Downloading jsonschema_specifications-2024.10.1-py3-none-any.whl (18 kB)\n",
      "Requirement already satisfied: attrs>=22.2.0 in /Users/imranabbas/Library/Python/3.9/lib/python/site-packages (from jsonschema[format-nongpl]>=4.18.0->jupyter-events>=0.9.0->jupyter-server<3,>=2.4.0->jupyterlab) (23.1.0)\n",
      "Collecting rpds-py>=0.7.1\n",
      "  Downloading rpds_py-0.22.3-cp39-cp39-macosx_11_0_arm64.whl (348 kB)\n",
      "\u001b[K     |████████████████████████████████| 348 kB 1.5 MB/s eta 0:00:01\n",
      "\u001b[?25hCollecting webcolors>=24.6.0\n",
      "  Downloading webcolors-24.11.1-py3-none-any.whl (14 kB)\n",
      "Collecting isoduration\n",
      "  Downloading isoduration-20.11.0-py3-none-any.whl (11 kB)\n",
      "Collecting uri-template\n",
      "  Downloading uri_template-1.3.0-py3-none-any.whl (11 kB)\n",
      "Collecting jsonpointer>1.13\n",
      "  Downloading jsonpointer-3.0.0-py2.py3-none-any.whl (7.6 kB)\n",
      "Collecting fqdn\n",
      "  Downloading fqdn-1.5.1-py3-none-any.whl (9.1 kB)\n",
      "Collecting json5>=0.9.0\n",
      "  Downloading json5-0.10.0-py3-none-any.whl (34 kB)\n",
      "Collecting babel>=2.10\n",
      "  Downloading babel-2.16.0-py3-none-any.whl (9.6 MB)\n",
      "\u001b[K     |████████████████████████████████| 9.6 MB 2.7 MB/s eta 0:00:01\n",
      "\u001b[?25hRequirement already satisfied: requests>=2.31 in /Users/imranabbas/Library/Python/3.9/lib/python/site-packages (from jupyterlab-server<3,>=2.27.1->jupyterlab) (2.31.0)\n",
      "Collecting tinycss2\n",
      "  Downloading tinycss2-1.4.0-py3-none-any.whl (26 kB)\n",
      "Collecting pandocfilters>=1.4.1\n",
      "  Downloading pandocfilters-1.5.1-py2.py3-none-any.whl (8.7 kB)\n",
      "Collecting bleach!=5.0.0\n",
      "  Downloading bleach-6.2.0-py3-none-any.whl (163 kB)\n",
      "\u001b[K     |████████████████████████████████| 163 kB 4.4 MB/s eta 0:00:01\n",
      "\u001b[?25hCollecting beautifulsoup4\n",
      "  Downloading beautifulsoup4-4.12.3-py3-none-any.whl (147 kB)\n",
      "\u001b[K     |████████████████████████████████| 147 kB 3.9 MB/s eta 0:00:01\n",
      "\u001b[?25hCollecting jupyterlab-pygments\n",
      "  Downloading jupyterlab_pygments-0.3.0-py3-none-any.whl (15 kB)\n",
      "Collecting nbclient>=0.5.0\n",
      "  Downloading nbclient-0.10.1-py3-none-any.whl (25 kB)\n",
      "Collecting mistune<4,>=2.0.3\n",
      "  Downloading mistune-3.0.2-py3-none-any.whl (47 kB)\n",
      "\u001b[K     |████████████████████████████████| 47 kB 2.7 MB/s eta 0:00:01\n",
      "\u001b[?25hCollecting defusedxml\n",
      "  Downloading defusedxml-0.7.1-py2.py3-none-any.whl (25 kB)\n",
      "Collecting webencodings\n",
      "  Downloading webencodings-0.5.1-py2.py3-none-any.whl (11 kB)\n",
      "Collecting fastjsonschema>=2.15\n",
      "  Downloading fastjsonschema-2.21.1-py3-none-any.whl (23 kB)\n",
      "Requirement already satisfied: ptyprocess>=0.5 in /Users/imranabbas/Library/Python/3.9/lib/python/site-packages (from pexpect>4.3->ipython>=6.1.0->ipywidgets>=7.5) (0.7.0)\n",
      "Requirement already satisfied: wcwidth in /Users/imranabbas/Library/Python/3.9/lib/python/site-packages (from prompt-toolkit!=3.0.37,<3.1.0,>=3.0.30->ipython>=6.1.0->ipywidgets>=7.5) (0.2.6)\n",
      "Requirement already satisfied: six>=1.5 in /Library/Developer/CommandLineTools/Library/Frameworks/Python3.framework/Versions/3.9/lib/python3.9/site-packages (from python-dateutil>=2.8.2->jupyter-client>=6.1.12->ipykernel>=6.5.0->jupyterlab) (1.15.0)\n",
      "Requirement already satisfied: charset-normalizer<4,>=2 in /Users/imranabbas/Library/Python/3.9/lib/python/site-packages (from requests>=2.31->jupyterlab-server<3,>=2.27.1->jupyterlab) (3.2.0)\n",
      "Requirement already satisfied: urllib3<3,>=1.21.1 in /Users/imranabbas/Library/Python/3.9/lib/python/site-packages (from requests>=2.31->jupyterlab-server<3,>=2.27.1->jupyterlab) (2.0.4)\n",
      "Collecting cffi>=1.0.1\n",
      "  Downloading cffi-1.17.1-cp39-cp39-macosx_11_0_arm64.whl (178 kB)\n",
      "\u001b[K     |████████████████████████████████| 178 kB 1.9 MB/s eta 0:00:01\n",
      "\u001b[?25hCollecting pycparser\n",
      "  Downloading pycparser-2.22-py3-none-any.whl (117 kB)\n",
      "\u001b[K     |████████████████████████████████| 117 kB 1.9 MB/s eta 0:00:01\n",
      "\u001b[?25hCollecting soupsieve>1.2\n",
      "  Downloading soupsieve-2.6-py3-none-any.whl (36 kB)\n",
      "Collecting arrow>=0.15.0\n",
      "  Downloading arrow-1.3.0-py3-none-any.whl (66 kB)\n",
      "\u001b[K     |████████████████████████████████| 66 kB 2.9 MB/s eta 0:00:01\n",
      "\u001b[?25hCollecting types-python-dateutil>=2.8.10\n",
      "  Downloading types_python_dateutil-2.9.0.20241206-py3-none-any.whl (14 kB)\n",
      "Requirement already satisfied: executing>=1.2.0 in /Users/imranabbas/Library/Python/3.9/lib/python/site-packages (from stack-data->ipython>=6.1.0->ipywidgets>=7.5) (1.2.0)\n",
      "Requirement already satisfied: asttokens>=2.1.0 in /Users/imranabbas/Library/Python/3.9/lib/python/site-packages (from stack-data->ipython>=6.1.0->ipywidgets>=7.5) (2.2.1)\n",
      "Requirement already satisfied: pure-eval in /Users/imranabbas/Library/Python/3.9/lib/python/site-packages (from stack-data->ipython>=6.1.0->ipywidgets>=7.5) (0.2.2)\n",
      "Installing collected packages: rpds-py, referencing, types-python-dateutil, jsonschema-specifications, pycparser, jsonschema, fastjsonschema, arrow, webencodings, webcolors, uri-template, soupsieve, rfc3986-validator, rfc3339-validator, nbformat, jsonpointer, isoduration, fqdn, cffi, tinycss2, terminado, sniffio, python-json-logger, pandocfilters, nbclient, mistune, jupyterlab-pygments, exceptiongroup, defusedxml, bleach, beautifulsoup4, argon2-cffi-bindings, websocket-client, send2trash, prometheus-client, overrides, nbconvert, jupyter-server-terminals, jupyter-events, h11, argon2-cffi, anyio, jupyter-server, json5, httpcore, babel, widgetsnbextension, tomli, notebook-shim, jupyterlab-widgets, jupyterlab-server, jupyter-lsp, httpx, async-lru, jupyterlab, ipywidgets\n",
      "Successfully installed anyio-4.7.0 argon2-cffi-23.1.0 argon2-cffi-bindings-21.2.0 arrow-1.3.0 async-lru-2.0.4 babel-2.16.0 beautifulsoup4-4.12.3 bleach-6.2.0 cffi-1.17.1 defusedxml-0.7.1 exceptiongroup-1.2.2 fastjsonschema-2.21.1 fqdn-1.5.1 h11-0.14.0 httpcore-1.0.7 httpx-0.28.1 ipywidgets-8.1.5 isoduration-20.11.0 json5-0.10.0 jsonpointer-3.0.0 jsonschema-4.23.0 jsonschema-specifications-2024.10.1 jupyter-events-0.10.0 jupyter-lsp-2.2.5 jupyter-server-2.14.2 jupyter-server-terminals-0.5.3 jupyterlab-4.3.3 jupyterlab-pygments-0.3.0 jupyterlab-server-2.27.3 jupyterlab-widgets-3.0.13 mistune-3.0.2 nbclient-0.10.1 nbconvert-7.16.4 nbformat-5.10.4 notebook-shim-0.2.4 overrides-7.7.0 pandocfilters-1.5.1 prometheus-client-0.21.1 pycparser-2.22 python-json-logger-3.2.0 referencing-0.35.1 rfc3339-validator-0.1.4 rfc3986-validator-0.1.1 rpds-py-0.22.3 send2trash-1.8.3 sniffio-1.3.1 soupsieve-2.6 terminado-0.18.1 tinycss2-1.4.0 tomli-2.2.1 types-python-dateutil-2.9.0.20241206 uri-template-1.3.0 webcolors-24.11.1 webencodings-0.5.1 websocket-client-1.8.0 widgetsnbextension-4.0.13\n",
      "\u001b[33mWARNING: You are using pip version 21.2.4; however, version 24.3.1 is available.\n",
      "You should consider upgrading via the '/Library/Developer/CommandLineTools/usr/bin/python3 -m pip install --upgrade pip' command.\u001b[0m\n"
     ]
    }
   ],
   "source": [
    "!pip3 install jupyterlab \"ipywidgets>=7.5\""
   ]
  },
  {
   "cell_type": "code",
   "execution_count": 2,
   "metadata": {},
   "outputs": [
    {
     "name": "stdout",
     "output_type": "stream",
     "text": [
      "Defaulting to user installation because normal site-packages is not writeable\n",
      "Collecting plotly\n",
      "  Downloading plotly-5.24.1-py3-none-any.whl (19.1 MB)\n",
      "\u001b[K     |████████████████████████████████| 19.1 MB 863 kB/s eta 0:00:01\n",
      "\u001b[?25hRequirement already satisfied: packaging in /Users/imranabbas/Library/Python/3.9/lib/python/site-packages (from plotly) (23.1)\n",
      "Requirement already satisfied: tenacity>=6.2.0 in /Users/imranabbas/Library/Python/3.9/lib/python/site-packages (from plotly) (8.2.2)\n",
      "Installing collected packages: plotly\n",
      "Successfully installed plotly-5.24.1\n",
      "\u001b[33mWARNING: You are using pip version 21.2.4; however, version 24.3.1 is available.\n",
      "You should consider upgrading via the '/Library/Developer/CommandLineTools/usr/bin/python3 -m pip install --upgrade pip' command.\u001b[0m\n"
     ]
    }
   ],
   "source": [
    "!pip3 install plotly"
   ]
  },
  {
   "cell_type": "code",
   "execution_count": null,
   "metadata": {},
   "outputs": [],
   "source": []
  }
 ],
 "metadata": {
  "kernelspec": {
   "display_name": "Python 3",
   "language": "python",
   "name": "python3"
  },
  "language_info": {
   "codemirror_mode": {
    "name": "ipython",
    "version": 3
   },
   "file_extension": ".py",
   "mimetype": "text/x-python",
   "name": "python",
   "nbconvert_exporter": "python",
   "pygments_lexer": "ipython3",
   "version": "3.9.6"
  },
  "orig_nbformat": 4
 },
 "nbformat": 4,
 "nbformat_minor": 2
}
